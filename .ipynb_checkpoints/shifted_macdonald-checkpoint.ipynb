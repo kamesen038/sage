{
 "cells": [
  {
   "cell_type": "code",
   "execution_count": 1,
   "metadata": {},
   "outputs": [
    {
     "data": {
      "text/plain": [
       "(q, t)"
      ]
     },
     "execution_count": 1,
     "metadata": {},
     "output_type": "execute_result"
    }
   ],
   "source": [
    "var('q,t')"
   ]
  },
  {
   "cell_type": "code",
   "execution_count": 2,
   "metadata": {},
   "outputs": [],
   "source": [
    "def reverestablau(young,max):\n",
    "    SSYTs=SemistandardTableaux(young,max_entry=max)\n",
    "    RSSYTs=[]\n",
    "    \n",
    "    \n",
    "    for SSYT in SSYTs:\n",
    "        RSSYT=[]\n",
    "        for row in SSYT:\n",
    "            Rrow=[] \n",
    "            for element in row:\n",
    "                Rrow.append(max+1-element)\n",
    "            RSSYT.append(Rrow)\n",
    "        RSSYTs.append(RSSYT)\n",
    "    return RSSYTs"
   ]
  },
  {
   "cell_type": "code",
   "execution_count": 3,
   "metadata": {},
   "outputs": [],
   "source": [
    "#this is a cordinate in a young daiagram\n",
    "def BoxInSkew(skewtableau):\n",
    "    list=[]\n",
    "    for j, column in enumerate(skewtableau.conjugate()):\n",
    "        if column[-1]==None:\n",
    "            list.append(j+1)\n",
    "    ans=[]\n",
    "    for i, row in enumerate(skewtableau):\n",
    "        if row[-1]!=None:\n",
    "            for listj in list:\n",
    "                if listj<=len(row):\n",
    "                    ans.append([i+1,listj])\n",
    "    return(ans)"
   ]
  },
  {
   "cell_type": "code",
   "execution_count": 4,
   "metadata": {},
   "outputs": [],
   "source": [
    "def SsytToList(ssyt):\n",
    "    list=[]\n",
    "    for row in ssyt:\n",
    "        rowlist=[]\n",
    "        for entry in row:\n",
    "            rowlist.append(entry)\n",
    "        list.append(rowlist)\n",
    "    return(list)"
   ]
  },
  {
   "cell_type": "code",
   "execution_count": 5,
   "metadata": {},
   "outputs": [],
   "source": [
    "def RemoveFtomYoung(youngdiag,number):\n",
    "    ans=[]\n",
    "    for row in youngdiag:\n",
    "        removedrow=[i for i in row if i!=number]\n",
    "        if removedrow!=[]:\n",
    "            ans.append(removedrow)\n",
    "    return(ans)"
   ]
  },
  {
   "cell_type": "code",
   "execution_count": 6,
   "metadata": {},
   "outputs": [],
   "source": [
    "def HorizontalStrips(ssyt,max_n):\n",
    "    ans=[]\n",
    "    rssyt=ssyt\n",
    "    young=Tableau(rssyt).shape()\n",
    "    ans.append(young)\n",
    "    for i in range(max_n,0,-1):\n",
    "        rssyt=RemoveFtomYoung(rssyt,i)\n",
    "        young=Tableau(rssyt).shape()\n",
    "        ans.append(young)\n",
    "    return(ans)"
   ]
  },
  {
   "cell_type": "code",
   "execution_count": 7,
   "metadata": {},
   "outputs": [],
   "source": [
    "def arm(young_list,i,j):\n",
    "    list=Partition(young_list)\n",
    "    return(list[i-1]-j if i<=len(list) else -j)"
   ]
  },
  {
   "cell_type": "code",
   "execution_count": 8,
   "metadata": {},
   "outputs": [],
   "source": [
    "def leg(young_list,i,j):\n",
    "    list=Partition(young_list).conjugate()\n",
    "    return(list[j-1]-i if j<=len(list) else -i)"
   ]
  },
  {
   "cell_type": "code",
   "execution_count": 9,
   "metadata": {},
   "outputs": [],
   "source": [
    "def b(young,i,j):\n",
    "    return(( 1-q^(arm(young,i,j))*t^(leg(young,i,j)+1) )/(1-q^(arm(young,i,j)+1)*t^(leg(young,i,j)) ) )"
   ]
  },
  {
   "cell_type": "code",
   "execution_count": 10,
   "metadata": {},
   "outputs": [],
   "source": [
    "def x_table(ssyt,number):\n",
    "    x = list(var('x%d' % (i+1)) for i in range(number))\n",
    "    ans=1\n",
    "    for row in ssyt:\n",
    "        for i,entry in enumerate(row):\n",
    "            ans=ans * x[entry-1]\n",
    "        \n",
    "    return(ans)"
   ]
  },
  {
   "cell_type": "code",
   "execution_count": 11,
   "metadata": {},
   "outputs": [],
   "source": [
    "def psi(young_lambda,young_mu):\n",
    "    list=BoxInSkew(SkewTableau(chain=[young_mu,young_lambda]))\n",
    "    ans=1\n",
    "    for cord in list:\n",
    "        ans=ans*b(young_mu,cord[0],cord[1])/b(young_lambda,cord[0],cord[1])\n",
    "    return(ans)"
   ]
  },
  {
   "cell_type": "code",
   "execution_count": 12,
   "metadata": {},
   "outputs": [],
   "source": [
    "def Psi(ssyt,n):\n",
    "    ans=1\n",
    "    youngs=HorizontalStrips(ssyt,n)\n",
    "    young1=youngs[0]\n",
    "    for young in youngs:\n",
    "        #print(young)\n",
    "        ans=ans*psi(young1,young)\n",
    "        young1=young\n",
    "    return(ans)"
   ]
  },
  {
   "cell_type": "code",
   "execution_count": 13,
   "metadata": {},
   "outputs": [],
   "source": [
    "def macdonald(young,n):\n",
    "    SST = SemistandardTableaux(young,max_entry=n) #this is not list\n",
    "    psilist=[]\n",
    "    for sst in SST:\n",
    "        psilist.append(Psi(sst,n))\n",
    "        \n",
    "        \n",
    "    RSST=reverestablau(young,n) #this is list\n",
    "    X=0\n",
    "    for i,ryoungtable in enumerate(RSST):\n",
    "        X=X+psilist[i]*x_table(ryoungtable,n)\n",
    "        #print(ryoungtable)\n",
    "    return(X)"
   ]
  },
  {
   "cell_type": "code",
   "execution_count": 14,
   "metadata": {},
   "outputs": [],
   "source": [
    "def coarm(i,j):\n",
    "    return(j-1)"
   ]
  },
  {
   "cell_type": "code",
   "execution_count": 15,
   "metadata": {},
   "outputs": [],
   "source": [
    "def coleg(i,j):\n",
    "    return(i-1)"
   ]
  },
  {
   "cell_type": "code",
   "execution_count": 16,
   "metadata": {},
   "outputs": [],
   "source": [
    "def x_table_shift(ssyt,number):\n",
    "    x = list(var('x%d' % (i+1)) for i in range(number))\n",
    "    ans=1\n",
    "    for i,row in enumerate(ssyt):\n",
    "        for j,entry in enumerate(row):\n",
    "            ans=ans*t^(1-entry)*(x[entry-1] -q^(coarm(i+1,j+1))*t^(-coleg(i+1,j+1)))\n",
    "            #print(ans)\n",
    "    return(ans)"
   ]
  },
  {
   "cell_type": "code",
   "execution_count": 17,
   "metadata": {},
   "outputs": [],
   "source": [
    "def shiftedmacdonald(young,n):\n",
    "    SST = SemistandardTableaux(young,max_entry=n) #this is not list\n",
    "    psilist=[]\n",
    "    for sst in SST:\n",
    "        psilist.append(Psi(sst,n))\n",
    "        \n",
    "        \n",
    "    RSST=reverestablau(young,n) #this is list\n",
    "    X=0\n",
    "    for i,ryoungtable in enumerate(RSST):\n",
    "        X=X+psilist[i]*x_table_shift(ryoungtable,n)\n",
    "        #print(ryoungtable)\n",
    "    return(X)"
   ]
  },
  {
   "cell_type": "code",
   "execution_count": 20,
   "metadata": {},
   "outputs": [
    {
     "data": {
      "text/plain": [
       "-(q - x1)*(x1 - 1/t)*(x2 - 1)/t - (q - x2)*(x1 - 1/t)*(x2 - 1)/t^2 - (q - x1)*(x1 - 1/t)*(x3 - 1)/t^2 - (q^2 - 1)*(q - x2)*(t - 1)*(x1 - 1/t)*(x3 - 1)/((q*t - 1)*(q - 1)*t^3) - (q^2*t - 1)*(t^2 - 1)*(q - x1)*(x2 - 1/t)*(x3 - 1)/((q*t^2 - 1)*(q*t - 1)*t^3) - (q - x3)*(x1 - 1/t)*(x3 - 1)/t^4 - (q - x2)*(x2 - 1/t)*(x3 - 1)/t^4 - (q - x3)*(x2 - 1/t)*(x3 - 1)/t^5"
      ]
     },
     "execution_count": 20,
     "metadata": {},
     "output_type": "execute_result"
    }
   ],
   "source": [
    "shiftedmacdonald([2,1],3)"
   ]
  },
  {
   "cell_type": "code",
   "execution_count": 19,
   "metadata": {},
   "outputs": [
    {
     "data": {
      "text/plain": [
       "1"
      ]
     },
     "execution_count": 19,
     "metadata": {},
     "output_type": "execute_result"
    }
   ],
   "source": [
    "shiftedmacdonald([],3)"
   ]
  },
  {
   "cell_type": "code",
   "execution_count": 21,
   "metadata": {},
   "outputs": [],
   "source": []
  },
  {
   "cell_type": "code",
   "execution_count": null,
   "metadata": {},
   "outputs": [],
   "source": []
  }
 ],
 "metadata": {
  "kernelspec": {
   "display_name": "SageMath 8.5",
   "language": "",
   "name": "sagemath"
  },
  "language_info": {
   "codemirror_mode": {
    "name": "ipython",
    "version": 2
   },
   "file_extension": ".py",
   "mimetype": "text/x-python",
   "name": "python",
   "nbconvert_exporter": "python",
   "pygments_lexer": "ipython2",
   "version": "2.7.15"
  }
 },
 "nbformat": 4,
 "nbformat_minor": 2
}
